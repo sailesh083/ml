{
 "cells": [
  {
   "cell_type": "code",
   "execution_count": 2,
   "metadata": {},
   "outputs": [
    {
     "name": "stdout",
     "output_type": "stream",
     "text": [
      "[['sunny' 'warm ' 'normal' 'strong' 'warm' 'same']\n",
      " ['sunny' 'warm ' 'high' 'strong' 'warm' 'same']\n",
      " ['rainy' 'cold' 'high' 'strong' 'warm' 'change']\n",
      " ['sunny' 'warm ' 'high' 'strong' 'cool' 'change']]\n",
      "+++++++++++++++++++++++++++++++++++++++++++++++++\n",
      "['Yes' 'Yes' 'No' 'Yes']\n",
      "Steps of candidate elimination algorithm 3\n",
      "['sunny' 'warm ' '?' 'strong' 'warm' 'same']\n",
      "[['sunny', '?', '?', '?', '?', '?'], ['?', 'warm ', '?', '?', '?', '?'], ['?', '?', '?', '?', '?', '?'], ['?', '?', '?', '?', '?', '?'], ['?', '?', '?', '?', '?', '?'], ['?', '?', '?', '?', '?', '?']]\n",
      "Steps of candidate elimination algorithm 3\n",
      "['sunny' 'warm ' '?' 'strong' 'warm' 'same']\n",
      "[['sunny', '?', '?', '?', '?', '?'], ['?', 'warm ', '?', '?', '?', '?'], ['?', '?', '?', '?', '?', '?'], ['?', '?', '?', '?', '?', '?'], ['?', '?', '?', '?', '?', '?'], ['?', '?', '?', '?', '?', '?']]\n",
      "Final specific_h:\n",
      "['sunny' 'warm ' '?' 'strong' '?' '?']\n",
      "Final general_h:\n",
      "[['sunny', '?', '?', '?', '?', '?'], ['?', 'warm ', '?', '?', '?', '?']]\n"
     ]
    }
   ],
   "source": [
    "import numpy as np\n",
    "import pandas as pd\n",
    "data=pd.DataFrame(data=pd.read_csv('training.csv'))\n",
    "concepts=np.array(data.iloc[:,0:-1])\n",
    "print(concepts)\n",
    "print(\"+++++++++++++++++++++++++++++++++++++++++++++++++\")\n",
    "target=np.array(data.iloc[:,-1])\n",
    "print(target)\n",
    "def learn(concepts,target):\n",
    "    specific_h=concepts[0].copy()\n",
    "    general_h=[[\"?\" for i in range(len(specific_h))] for i in range(len(specific_h))]\n",
    "    for i,h in enumerate(concepts):\n",
    "        if target[i]==\"Yes\":\n",
    "            for x in range(len(specific_h)):\n",
    "                if h[x]!=specific_h[x]:\n",
    "                    specific_h[x]='?' \n",
    "                    general_h[x][x]='?'\n",
    "                \n",
    "        if target[i]==\"No\":\n",
    "            for x in range(len(specific_h)):\n",
    "                if h[x]!=specific_h[x]:\n",
    "                      general_h[x][x]=specific_h[x]    \n",
    "                else:\n",
    "                    general_h[x][x]='?'\n",
    "                    print(\"Steps of candidate elimination algorithm\",i+1)\n",
    "                    print(specific_h)\n",
    "                    print(general_h)\n",
    "    indices=[i for i,val in enumerate(general_h) if val==['?','?','?','?','?','?']]\n",
    "    for i in indices:\n",
    "        general_h.remove(['?','?','?','?','?','?'])\n",
    "    return specific_h,general_h                    \n",
    "s_final,g_final=learn(concepts,target)\n",
    "print(\"Final specific_h:\",s_final,sep=\"\\n\")\n",
    "print(\"Final general_h:\",g_final,sep=\"\\n\")"
   ]
  },
  {
   "cell_type": "code",
   "execution_count": null,
   "metadata": {},
   "outputs": [],
   "source": []
  },
  {
   "cell_type": "code",
   "execution_count": null,
   "metadata": {},
   "outputs": [],
   "source": []
  },
  {
   "cell_type": "code",
   "execution_count": null,
   "metadata": {},
   "outputs": [],
   "source": []
  }
 ],
 "metadata": {
  "kernelspec": {
   "display_name": "Python 3",
   "language": "python",
   "name": "python3"
  },
  "language_info": {
   "codemirror_mode": {
    "name": "ipython",
    "version": 3
   },
   "file_extension": ".py",
   "mimetype": "text/x-python",
   "name": "python",
   "nbconvert_exporter": "python",
   "pygments_lexer": "ipython3",
   "version": "3.6.5"
  }
 },
 "nbformat": 4,
 "nbformat_minor": 2
}
