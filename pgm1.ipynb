{
 "cells": [
  {
   "cell_type": "code",
   "execution_count": 38,
   "metadata": {},
   "outputs": [],
   "source": [
    "import csv"
   ]
  },
  {
   "cell_type": "code",
   "execution_count": 39,
   "metadata": {},
   "outputs": [
    {
     "name": "stdout",
     "output_type": "stream",
     "text": [
      "<_csv.reader object at 0x00000258075DFA08>\n",
      "\n",
      " The given training exapmles are:\n",
      "['Sky', 'AirTemp', 'Humidity', 'Wind', 'Water', 'Forecast', 'EnjoySports']\n",
      "['sunny', 'warm ', 'normal', 'strong', 'warm', 'same', 'Yes']\n",
      "['sunny', 'warm ', 'high', 'strong', 'warm', 'same', 'Yes']\n",
      "['rainy', 'cold', 'high', 'strong', 'warm', 'change', 'No']\n",
      "['sunny', 'warm ', 'high', 'strong', 'cool', 'change', 'Yes']\n"
     ]
    }
   ],
   "source": [
    "hypo=['%','%','%','%','%','%']\n",
    "with open(\"training.csv\") as csv_file:\n",
    "    readcsv=csv.reader(csv_file,delimiter=',')\n",
    "    print (readcsv)\n",
    "    data=[]\n",
    "    print(\"\\n The given training exapmles are:\")\n",
    "    for row in readcsv:\n",
    "        print(row)\n",
    "        if row[len(row)-1].upper()==\"YES\":\n",
    "            data.append(row)"
   ]
  },
  {
   "cell_type": "code",
   "execution_count": 40,
   "metadata": {},
   "outputs": [
    {
     "name": "stdout",
     "output_type": "stream",
     "text": [
      "\n",
      " the positive examples are:\n",
      "['sunny', 'warm ', 'normal', 'strong', 'warm', 'same', 'Yes']\n",
      "['sunny', 'warm ', 'high', 'strong', 'warm', 'same', 'Yes']\n",
      "['sunny', 'warm ', 'high', 'strong', 'cool', 'change', 'Yes']\n",
      "\n",
      "\n"
     ]
    }
   ],
   "source": [
    "print(\"\\n the positive examples are:\")\n",
    "for x in data:\n",
    "    print (x)\n",
    "print(\"\\n\")"
   ]
  },
  {
   "cell_type": "code",
   "execution_count": 41,
   "metadata": {},
   "outputs": [
    {
     "name": "stdout",
     "output_type": "stream",
     "text": [
      "The steps of algorithm are\n",
      " ['%', '%', '%', '%', '%', '%']\n"
     ]
    }
   ],
   "source": [
    "TotalExamples=len(data)\n",
    "i=0\n",
    "j=0\n",
    "k=0\n",
    "print(\"The steps of algorithm are\\n\",hypo)\n"
   ]
  },
  {
   "cell_type": "code",
   "execution_count": 42,
   "metadata": {},
   "outputs": [
    {
     "name": "stdout",
     "output_type": "stream",
     "text": [
      "6\n"
     ]
    }
   ],
   "source": [
    "list=[]\n",
    "p=0\n",
    "d=len(data[p])-1\n",
    "print (d)\n"
   ]
  },
  {
   "cell_type": "code",
   "execution_count": 43,
   "metadata": {},
   "outputs": [
    {
     "name": "stdout",
     "output_type": "stream",
     "text": [
      "['sunny', 'warm ', 'normal', 'strong', 'warm', 'same']\n"
     ]
    }
   ],
   "source": [
    "for j in range (d):\n",
    "    list.append(data[i][j])\n",
    "hypo=list\n",
    "print(hypo)"
   ]
  },
  {
   "cell_type": "code",
   "execution_count": 44,
   "metadata": {},
   "outputs": [
    {
     "name": "stdout",
     "output_type": "stream",
     "text": [
      "['sunny', 'warm ', 'normal', 'strong', 'warm', 'same']\n",
      "['sunny', 'warm ', '?', 'strong', 'warm', 'same']\n",
      "['sunny', 'warm ', '?', 'strong', '?', '?']\n",
      "\n",
      " The maximally specific Find-s hypothesis for the givem training example is\n",
      "['sunny', 'warm ', '?', 'strong', '?', '?']\n"
     ]
    }
   ],
   "source": [
    "for i in range(TotalExamples):\n",
    "    for k in range (d):\n",
    "        if hypo[k]!=data[i][k]:\n",
    "            hypo[k]='?'\n",
    "            #k=k+1\n",
    "        else:\n",
    "            hypo[k]\n",
    "    print(hypo)\n",
    "print(\"\\n The maximally specific Find-s hypothesis for the givem training example is\")\n",
    "lst=[]\n",
    "for i in range(d):\n",
    "    lst.append(hypo[i])\n",
    "print(lst)"
   ]
  },
  {
   "cell_type": "code",
   "execution_count": null,
   "metadata": {},
   "outputs": [],
   "source": []
  }
 ],
 "metadata": {
  "kernelspec": {
   "display_name": "Python 3",
   "language": "python",
   "name": "python3"
  },
  "language_info": {
   "codemirror_mode": {
    "name": "ipython",
    "version": 3
   },
   "file_extension": ".py",
   "mimetype": "text/x-python",
   "name": "python",
   "nbconvert_exporter": "python",
   "pygments_lexer": "ipython3",
   "version": "3.6.5"
  }
 },
 "nbformat": 4,
 "nbformat_minor": 2
}
